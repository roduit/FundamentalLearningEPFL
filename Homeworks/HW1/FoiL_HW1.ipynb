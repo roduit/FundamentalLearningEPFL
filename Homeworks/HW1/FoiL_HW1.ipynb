{
 "cells": [
  {
   "cell_type": "markdown",
   "metadata": {},
   "source": [
    "# $\\color{Green}{\\text{Fundamentals of Inference and Learning}}$ \n",
    "## Homework 1 \n",
    "### Exercise 1 : Statistical Inference and Maximum Likelihood"
   ]
  },
  {
   "cell_type": "markdown",
   "metadata": {},
   "source": [
    "#### 1.\n",
    "First we need to compute $Z(\\lambda)$ in order to have a normalized distribution. We therefore have:\n",
    "$$\n",
    "\\int_{-\\infty}^{-\\infty} p_\\lambda (x_i)dx_i = 1 \n",
    "\\Leftrightarrow \\int_{1}^{20} \\frac{1}{Z(\\lambda)}e^{\\frac{-x_i}{\\lambda}}dx_i = 1\n",
    "$$\n",
    "By integrating:\n",
    "$$\n",
    "-\\frac{\\lambda}{Z(\\lambda)}*(e^{\\frac{-20}{\\lambda}}-e^{\\frac{-1}{\\lambda}}) = 1\n",
    "$$\n",
    "$Z(\\lambda)$ is found to be : \n",
    "$$\n",
    "    Z(\\lambda) = -\\lambda * (e^{\\frac{-20}{\\lambda}}-e^{\\frac{-1}{\\lambda}})\n",
    "$$\n",
    "\n",
    "Now compute $\\mathbb{E}[X]$\n",
    "$$\n",
    "\\mathbb{E}[X] = \\int_{1}^{20} x_i \\cdot \\frac{1}{Z(\\lambda)}e^{\\frac{-x_i}{\\lambda}}dx_i\n",
    "$$\n",
    "Let's integrate by parts:\n",
    "$$\n",
    "\\mathbb{E}[X] = \\frac{1}{Z(\\lambda)} \\{ -\\lambda[20e^{-\\frac{20}{\\lambda}}-e^{-\\frac{1}{\\lambda}}] - \\lambda \\int_{1}^{20} e^{\\frac{-x_i}{\\lambda}}dx_i\\}\n",
    "$$\n",
    "Finally:\n",
    "$$\n",
    "    \\mathbb{E}[X] = \\frac{1}{Z(\\lambda)} \\{ -\\lambda[20e^{-\\frac{20}{\\lambda}}-e^{-\\frac{1}{\\lambda}}] + \\lambda^2 [e^{-\\frac{20}{\\lambda}}-e^{-\\frac{1}{\\lambda}}]\\}\n",
    "$$ \n",
    "\n",
    "Now lets compute $\\partial_\\lambda Z(\\lambda)$:\n",
    "$$\n",
    "\\partial_\\lambda Z(\\lambda) = -\\frac{1}{\\lambda(e^{\\frac{-20}{\\lambda}}-e^{\\frac{-1}{\\lambda}})} [-(e^{-\\frac{20}{\\lambda}}-e^{-\\frac{1}{\\lambda}})-\\lambda(\\frac{20e^{-\\frac{20}{\\lambda}}}{\\lambda^2}-\\frac{-e^{-\\frac{1}{\\lambda}}}{\\lambda^2}] = \\frac{1}{Z(\\lambda)} \\{ -\\lambda[20e^{-\\frac{20}{\\lambda}}-e^{-\\frac{1}{\\lambda}}] + \\lambda^2 [e^{-\\frac{20}{\\lambda}}-e^{-\\frac{1}{\\lambda}}]\\}\n",
    "$$\n",
    "\n",
    "By comparing the previous result found for $\\mathbb{E}[X]$, the final expression is:\n",
    "$$\n",
    "\\mathbb{E}[X] = \\lambda^2 \\cdot \\partial_\\lambda Z(\\lambda)\n",
    "$$"
   ]
  },
  {
   "cell_type": "markdown",
   "metadata": {},
   "source": []
  },
  {
   "cell_type": "markdown",
   "metadata": {},
   "source": []
  }
 ],
 "metadata": {
  "language_info": {
   "name": "python"
  }
 },
 "nbformat": 4,
 "nbformat_minor": 2
}
