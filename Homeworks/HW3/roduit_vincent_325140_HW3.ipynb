{
 "cells": [
  {
   "cell_type": "markdown",
   "metadata": {},
   "source": [
    "# $\\color{Green}{\\text{Fundamentals of Inference and Learning}}$ \n",
    "Name: Roduit \\\n",
    "Surname : Vincent \\\n",
    "Sciper: 325140\n",
    "\n",
    "Again, as said in Homework 1, only relevant steps of the calculation are written in this notebook. The full derivation can be found in the PDF file attached to the submission\n",
    "## Homework 3\n",
    "### Exercise 1 : Backpropagation with logistic loss"
   ]
  },
  {
   "cell_type": "code",
   "execution_count": 27,
   "metadata": {},
   "outputs": [],
   "source": [
    "import numpy as np\n",
    "import torch"
   ]
  },
  {
   "cell_type": "code",
   "execution_count": 28,
   "metadata": {},
   "outputs": [],
   "source": [
    "import warnings\n",
    "warnings.filterwarnings('ignore')"
   ]
  },
  {
   "cell_type": "markdown",
   "metadata": {},
   "source": [
    "1."
   ]
  },
  {
   "cell_type": "code",
   "execution_count": 29,
   "metadata": {},
   "outputs": [],
   "source": [
    "def sigmoid(t):\n",
    "    \"\"\"Compute the sigmoid function.\n",
    "    Args:\n",
    "        t (np.ndarray): Input array of any shape\n",
    "    Returns:\n",
    "        np.ndarray, sigmoid function applied to input array\n",
    "    \"\"\"\n",
    "    return 1 / (1 + np.exp(-t))"
   ]
  },
  {
   "cell_type": "code",
   "execution_count": 30,
   "metadata": {},
   "outputs": [],
   "source": [
    "def predict(X,W):\n",
    "    \"\"\" Compute the prediction\n",
    "    Args :\n",
    "        X (np.array): input data of shape (B,D)\n",
    "        Dictionary W (dict): dictionary of weights (W={w 1: D x K, w 2: K x 1})\n",
    "    Returns:\n",
    "        tuple of np.ndarray, z_1, z_2, y_hat\n",
    "    \"\"\"\n",
    "    z_1 = np.dot(X,W['w1'])\n",
    "    x_1 = sigmoid(z_1)\n",
    "    z_2 = np.dot(x_1,W['w2'])\n",
    "    y_hat = sigmoid(z_2)\n",
    "    return (z_1,z_2,y_hat)"
   ]
  },
  {
   "cell_type": "markdown",
   "metadata": {},
   "source": [
    "2. "
   ]
  },
  {
   "cell_type": "code",
   "execution_count": 31,
   "metadata": {},
   "outputs": [],
   "source": [
    "def logistic_loss(y, y_hat):\n",
    "    \"\"\" Compute the logistic loss function\n",
    "    Args :\n",
    "        y (np.array): input data of shape (B,1)\n",
    "        y_hat (np.array): input data of shape (B,1)\n",
    "    Output :\n",
    "        loss (float): logistic loss\n",
    "    \"\"\"\n",
    "    return -np.mean(y*np.log(y_hat)+(1-y)*np.log(1-y_hat))"
   ]
  },
  {
   "cell_type": "code",
   "execution_count": 32,
   "metadata": {},
   "outputs": [
    {
     "name": "stdout",
     "output_type": "stream",
     "text": [
      "The loss is  L=nan\n"
     ]
    }
   ],
   "source": [
    "B = 10\n",
    "y = np.zeros(B)\n",
    "y_hat = np.zeros(B)\n",
    "loss = logistic_loss(y, y_hat)\n",
    "print(f'The loss is  L={loss:.4f}')"
   ]
  },
  {
   "cell_type": "markdown",
   "metadata": {},
   "source": [
    "3. "
   ]
  },
  {
   "cell_type": "code",
   "execution_count": 33,
   "metadata": {},
   "outputs": [],
   "source": [
    "def stable_logistic_loss(y, z_2):\n",
    "    \"\"\" Compute the logistic loss function\n",
    "    Args :\n",
    "        y (np.array): input data of shape (B,1)\n",
    "        z_2 (np.array): input data of shape (B,1)\n",
    "    Output :\n",
    "        loss (float): logistic loss\n",
    "    \"\"\"\n",
    "    return np.mean(np.logaddexp(0,-z_2) + (1-y)*z_2)"
   ]
  },
  {
   "cell_type": "code",
   "execution_count": 34,
   "metadata": {},
   "outputs": [
    {
     "name": "stdout",
     "output_type": "stream",
     "text": [
      "The loss is: L=0.00\n"
     ]
    }
   ],
   "source": [
    "z_2 = -10e10 * np.ones(B)\n",
    "y = np.zeros(B)\n",
    "\n",
    "loss = stable_logistic_loss(y, z_2)\n",
    "print(f'The loss is: L={loss:.2f}')"
   ]
  },
  {
   "cell_type": "markdown",
   "metadata": {},
   "source": [
    "4. "
   ]
  },
  {
   "cell_type": "markdown",
   "metadata": {},
   "source": [
    "5."
   ]
  },
  {
   "cell_type": "code",
   "execution_count": null,
   "metadata": {},
   "outputs": [],
   "source": [
    "def gradient(X,y,W):\n",
    "    \"\"\" Compute the gradient of the logistic loss function\n",
    "    Args :\n",
    "        X (np.array): input data of shape (B,D)\n",
    "        y (np.array): input data of shape (B,1)\n",
    "        W (dict): dictionary of weights (W={w 1: D x K, w 2: K x 1})\n",
    "    Output :\n",
    "        grad (dict): dictionary of gradients (grad={w 1: D x K, w 2: K x 1})\n",
    "    \"\"\""
   ]
  }
 ],
 "metadata": {
  "kernelspec": {
   "display_name": "Machine-Learning",
   "language": "python",
   "name": "python3"
  },
  "language_info": {
   "codemirror_mode": {
    "name": "ipython",
    "version": 3
   },
   "file_extension": ".py",
   "mimetype": "text/x-python",
   "name": "python",
   "nbconvert_exporter": "python",
   "pygments_lexer": "ipython3",
   "version": "3.11.6"
  }
 },
 "nbformat": 4,
 "nbformat_minor": 2
}
